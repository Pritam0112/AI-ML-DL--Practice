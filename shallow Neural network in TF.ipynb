{
 "cells": [
  {
   "cell_type": "code",
   "execution_count": 6,
   "id": "def32b6a",
   "metadata": {},
   "outputs": [],
   "source": [
    "import tensorflow \n",
    "from tensorflow.keras.datasets import mnist\n",
    "from tensorflow.keras.utils import to_categorical\n",
    "from tensorflow.keras.models import Sequential\n",
    "from tensorflow.keras.layers import Dense\n",
    "from tensorflow.keras.optimizers import SGD\n",
    "from matplotlib import pyplot as plt\n"
   ]
  },
  {
   "cell_type": "code",
   "execution_count": 7,
   "id": "a5ada472",
   "metadata": {},
   "outputs": [
    {
     "name": "stdout",
     "output_type": "stream",
     "text": [
      "Downloading data from https://storage.googleapis.com/tensorflow/tf-keras-datasets/mnist.npz\n",
      "11490434/11490434 [==============================] - 7s 1us/step\n"
     ]
    }
   ],
   "source": [
    "(X_train, y_train), (X_valid, y_valid) = mnist.load_data()"
   ]
  },
  {
   "cell_type": "code",
   "execution_count": 13,
   "id": "88a6e082",
   "metadata": {},
   "outputs": [
    {
     "data": {
      "text/plain": [
       "(60000, 28, 28)"
      ]
     },
     "execution_count": 13,
     "metadata": {},
     "output_type": "execute_result"
    }
   ],
   "source": [
    "X_train.shape"
   ]
  },
  {
   "cell_type": "code",
   "execution_count": 14,
   "id": "fbb2a007",
   "metadata": {},
   "outputs": [
    {
     "data": {
      "image/png": "[encoded data removed]",
      "text/plain": [
       "<Figure size 500x500 with 12 Axes>"
      ]
     },
     "metadata": {},
     "output_type": "display_data"
    }
   ],
   "source": [
    "plt.figure(figsize=(5,5))\n",
    "for k in range(12):\n",
    "    plt.subplot(3,4,k+1)\n",
    "    plt.imshow(X_train[k], cmap=\"Greys\")\n",
    "    plt.axis(\"off\")\n",
    "    \n",
    "plt.tight_layout()\n",
    "plt.show();"
   ]
  },
  {
   "cell_type": "code",
   "execution_count": 16,
   "id": "faa97625",
   "metadata": {},
   "outputs": [
    {
     "data": {
      "image/png": "[encoded data removed]",
      "text/plain": [
       "<Figure size 640x480 with 1 Axes>"
      ]
     },
     "metadata": {},
     "output_type": "display_data"
    }
   ],
   "source": [
    "## plotting only single digit\n",
    "def plot_digit(image_data):\n",
    "    image = image_data.reshape(28,28)\n",
    "    plt.imshow(image, cmap = \"binary\")\n",
    "    plt.axis(\"off\")\n",
    "some_digit = X_train[0]\n",
    "plot_digit(some_digit)\n",
    "plt.show()"
   ]
  },
  {
   "cell_type": "code",
   "execution_count": 17,
   "id": "9510471b",
   "metadata": {},
   "outputs": [
    {
     "data": {
      "text/plain": [
       "<matplotlib.image.AxesImage at 0x24a335e6c50>"
      ]
     },
     "execution_count": 17,
     "metadata": {},
     "output_type": "execute_result"
    },
    {
     "data": {
      "image/png": "[encoded data removed]",
      "text/plain": [
       "<Figure size 640x480 with 1 Axes>"
      ]
     },
     "metadata": {},
     "output_type": "display_data"
    }
   ],
   "source": [
    "## plotting first digit of validation sets \n",
    "\n",
    "plt.imshow(X_valid[0], cmap=\"Greys\")"
   ]
  },
  {
   "cell_type": "code",
   "execution_count": 18,
   "id": "c87bf6af",
   "metadata": {},
   "outputs": [
    {
     "data": {
      "text/plain": [
       "7"
      ]
     },
     "execution_count": 18,
     "metadata": {},
     "output_type": "execute_result"
    }
   ],
   "source": [
    "y_valid[0]"
   ]
  },
  {
   "cell_type": "code",
   "execution_count": 21,
   "id": "f1b9e9b2",
   "metadata": {},
   "outputs": [],
   "source": [
    "## prepeocessing of data\n",
    "\n",
    "X_train = X_train.reshape(60000, 784).astype(\"float32\")\n",
    "X_valid = X_valid.reshape(10000, 784).astype(\"float32\")"
   ]
  },
  {
   "cell_type": "code",
   "execution_count": 22,
   "id": "afb664f4",
   "metadata": {},
   "outputs": [],
   "source": [
    "## to normalise the data we reshape the data \n",
    "\n",
    "X_train /= 255\n",
    "X_valid /=255"
   ]
  },
  {
   "cell_type": "code",
   "execution_count": 24,
   "id": "1ecf4162",
   "metadata": {},
   "outputs": [
    {
     "data": {
      "text/plain": [
       "array([0.        , 0.        , 0.        , 0.        , 0.        ,\n",
       "       0.        , 0.        , 0.        , 0.        , 0.        ,\n",
       "       0.        , 0.        , 0.        , 0.        , 0.        ,\n",
       "       0.        , 0.        , 0.        , 0.        , 0.        ,\n",
       "       0.        , 0.        , 0.        , 0.        , 0.        ,\n",
       "       0.        , 0.        , 0.        , 0.        , 0.        ,\n",
       "       0.        , 0.        , 0.        , 0.        , 0.        ,\n",
       "       0.        , 0.        , 0.        , 0.        , 0.        ,\n",
       "       0.        , 0.        , 0.        , 0.        , 0.        ,\n",
       "       0.        , 0.        , 0.        , 0.        , 0.        ,\n",
       "       0.        , 0.        , 0.        , 0.        , 0.        ,\n",
       "       0.        , 0.        , 0.        , 0.        , 0.        ,\n",
       "       0.        , 0.        , 0.        , 0.        , 0.        ,\n",
       "       0.        , 0.        , 0.        , 0.        , 0.        ,\n",
       "       0.        , 0.        , 0.        , 0.        , 0.        ,\n",
       "       0.        , 0.        , 0.        , 0.        , 0.        ,\n",
       "       0.        , 0.        , 0.        , 0.        , 0.        ,\n",
       "       0.        , 0.        , 0.        , 0.        , 0.        ,\n",
       "       0.        , 0.        , 0.        , 0.        , 0.        ,\n",
       "       0.        , 0.        , 0.        , 0.        , 0.        ,\n",
       "       0.        , 0.        , 0.        , 0.        , 0.        ,\n",
       "       0.        , 0.        , 0.        , 0.        , 0.        ,\n",
       "       0.        , 0.        , 0.        , 0.        , 0.        ,\n",
       "       0.        , 0.        , 0.        , 0.        , 0.        ,\n",
       "       0.        , 0.        , 0.        , 0.        , 0.        ,\n",
       "       0.        , 0.        , 0.        , 0.        , 0.        ,\n",
       "       0.        , 0.        , 0.        , 0.        , 0.        ,\n",
       "       0.        , 0.        , 0.        , 0.        , 0.        ,\n",
       "       0.        , 0.        , 0.        , 0.        , 0.        ,\n",
       "       0.        , 0.        , 0.        , 0.        , 0.        ,\n",
       "       0.        , 0.        , 0.01176471, 0.07058824, 0.07058824,\n",
       "       0.07058824, 0.49411765, 0.53333336, 0.6862745 , 0.10196079,\n",
       "       0.6509804 , 1.        , 0.96862745, 0.49803922, 0.        ,\n",
       "       0.        , 0.        , 0.        , 0.        , 0.        ,\n",
       "       0.        , 0.        , 0.        , 0.        , 0.        ,\n",
       "       0.        , 0.11764706, 0.14117648, 0.36862746, 0.6039216 ,\n",
       "       0.6666667 , 0.99215686, 0.99215686, 0.99215686, 0.99215686,\n",
       "       0.99215686, 0.88235295, 0.6745098 , 0.99215686, 0.9490196 ,\n",
       "       0.7647059 , 0.2509804 , 0.        , 0.        , 0.        ,\n",
       "       0.        , 0.        , 0.        , 0.        , 0.        ,\n",
       "       0.        , 0.        , 0.        , 0.19215687, 0.93333334,\n",
       "       0.99215686, 0.99215686, 0.99215686, 0.99215686, 0.99215686,\n",
       "       0.99215686, 0.99215686, 0.99215686, 0.9843137 , 0.3647059 ,\n",
       "       0.32156864, 0.32156864, 0.21960784, 0.15294118, 0.        ,\n",
       "       0.        , 0.        , 0.        , 0.        , 0.        ,\n",
       "       0.        , 0.        , 0.        , 0.        , 0.        ,\n",
       "       0.        , 0.07058824, 0.85882354, 0.99215686, 0.99215686,\n",
       "       0.99215686, 0.99215686, 0.99215686, 0.7764706 , 0.7137255 ,\n",
       "       0.96862745, 0.94509804, 0.        , 0.        , 0.        ,\n",
       "       0.        , 0.        , 0.        , 0.        , 0.        ,\n",
       "       0.        , 0.        , 0.        , 0.        , 0.        ,\n",
       "       0.        , 0.        , 0.        , 0.        , 0.        ,\n",
       "       0.3137255 , 0.6117647 , 0.41960785, 0.99215686, 0.99215686,\n",
       "       0.8039216 , 0.04313726, 0.        , 0.16862746, 0.6039216 ,\n",
       "       0.        , 0.        , 0.        , 0.        , 0.        ,\n",
       "       0.        , 0.        , 0.        , 0.        , 0.        ,\n",
       "       0.        , 0.        , 0.        , 0.        , 0.        ,\n",
       "       0.        , 0.        , 0.        , 0.        , 0.05490196,\n",
       "       0.00392157, 0.6039216 , 0.99215686, 0.3529412 , 0.        ,\n",
       "       0.        , 0.        , 0.        , 0.        , 0.        ,\n",
       "       0.        , 0.        , 0.        , 0.        , 0.        ,\n",
       "       0.        , 0.        , 0.        , 0.        , 0.        ,\n",
       "       0.        , 0.        , 0.        , 0.        , 0.        ,\n",
       "       0.        , 0.        , 0.        , 0.        , 0.54509807,\n",
       "       0.99215686, 0.74509805, 0.00784314, 0.        , 0.        ,\n",
       "       0.        , 0.        , 0.        , 0.        , 0.        ,\n",
       "       0.        , 0.        , 0.        , 0.        , 0.        ,\n",
       "       0.        , 0.        , 0.        , 0.        , 0.        ,\n",
       "       0.        , 0.        , 0.        , 0.        , 0.        ,\n",
       "       0.        , 0.        , 0.04313726, 0.74509805, 0.99215686,\n",
       "       0.27450982, 0.        , 0.        , 0.        , 0.        ,\n",
       "       0.        , 0.        , 0.        , 0.        , 0.        ,\n",
       "       0.        , 0.        , 0.        , 0.        , 0.        ,\n",
       "       0.        , 0.        , 0.        , 0.        , 0.        ,\n",
       "       0.        , 0.        , 0.        , 0.        , 0.        ,\n",
       "       0.        , 0.13725491, 0.94509804, 0.88235295, 0.627451  ,\n",
       "       0.42352942, 0.00392157, 0.        , 0.        , 0.        ,\n",
       "       0.        , 0.        , 0.        , 0.        , 0.        ,\n",
       "       0.        , 0.        , 0.        , 0.        , 0.        ,\n",
       "       0.        , 0.        , 0.        , 0.        , 0.        ,\n",
       "       0.        , 0.        , 0.        , 0.        , 0.        ,\n",
       "       0.31764707, 0.9411765 , 0.99215686, 0.99215686, 0.46666667,\n",
       "       0.09803922, 0.        , 0.        , 0.        , 0.        ,\n",
       "       0.        , 0.        , 0.        , 0.        , 0.        ,\n",
       "       0.        , 0.        , 0.        , 0.        , 0.        ,\n",
       "       0.        , 0.        , 0.        , 0.        , 0.        ,\n",
       "       0.        , 0.        , 0.        , 0.        , 0.1764706 ,\n",
       "       0.7294118 , 0.99215686, 0.99215686, 0.5882353 , 0.10588235,\n",
       "       0.        , 0.        , 0.        , 0.        , 0.        ,\n",
       "       0.        , 0.        , 0.        , 0.        , 0.        ,\n",
       "       0.        , 0.        , 0.        , 0.        , 0.        ,\n",
       "       0.        , 0.        , 0.        , 0.        , 0.        ,\n",
       "       0.        , 0.        , 0.        , 0.0627451 , 0.3647059 ,\n",
       "       0.9882353 , 0.99215686, 0.73333335, 0.        , 0.        ,\n",
       "       0.        , 0.        , 0.        , 0.        , 0.        ,\n",
       "       0.        , 0.        , 0.        , 0.        , 0.        ,\n",
       "       0.        , 0.        , 0.        , 0.        , 0.        ,\n",
       "       0.        , 0.        , 0.        , 0.        , 0.        ,\n",
       "       0.        , 0.        , 0.        , 0.9764706 , 0.99215686,\n",
       "       0.9764706 , 0.2509804 , 0.        , 0.        , 0.        ,\n",
       "       0.        , 0.        , 0.        , 0.        , 0.        ,\n",
       "       0.        , 0.        , 0.        , 0.        , 0.        ,\n",
       "       0.        , 0.        , 0.        , 0.        , 0.        ,\n",
       "       0.        , 0.        , 0.        , 0.18039216, 0.50980395,\n",
       "       0.7176471 , 0.99215686, 0.99215686, 0.8117647 , 0.00784314,\n",
       "       0.        , 0.        , 0.        , 0.        , 0.        ,\n",
       "       0.        , 0.        , 0.        , 0.        , 0.        ,\n",
       "       0.        , 0.        , 0.        , 0.        , 0.        ,\n",
       "       0.        , 0.        , 0.        , 0.        , 0.15294118,\n",
       "       0.5803922 , 0.8980392 , 0.99215686, 0.99215686, 0.99215686,\n",
       "       0.98039216, 0.7137255 , 0.        , 0.        , 0.        ,\n",
       "       0.        , 0.        , 0.        , 0.        , 0.        ,\n",
       "       0.        , 0.        , 0.        , 0.        , 0.        ,\n",
       "       0.        , 0.        , 0.        , 0.        , 0.        ,\n",
       "       0.09411765, 0.44705883, 0.8666667 , 0.99215686, 0.99215686,\n",
       "       0.99215686, 0.99215686, 0.7882353 , 0.30588236, 0.        ,\n",
       "       0.        , 0.        , 0.        , 0.        , 0.        ,\n",
       "       0.        , 0.        , 0.        , 0.        , 0.        ,\n",
       "       0.        , 0.        , 0.        , 0.        , 0.        ,\n",
       "       0.        , 0.09019608, 0.25882354, 0.8352941 , 0.99215686,\n",
       "       0.99215686, 0.99215686, 0.99215686, 0.7764706 , 0.31764707,\n",
       "       0.00784314, 0.        , 0.        , 0.        , 0.        ,\n",
       "       0.        , 0.        , 0.        , 0.        , 0.        ,\n",
       "       0.        , 0.        , 0.        , 0.        , 0.        ,\n",
       "       0.        , 0.        , 0.07058824, 0.67058825, 0.85882354,\n",
       "       0.99215686, 0.99215686, 0.99215686, 0.99215686, 0.7647059 ,\n",
       "       0.3137255 , 0.03529412, 0.        , 0.        , 0.        ,\n",
       "       0.        , 0.        , 0.        , 0.        , 0.        ,\n",
       "       0.        , 0.        , 0.        , 0.        , 0.        ,\n",
       "       0.        , 0.        , 0.        , 0.21568628, 0.6745098 ,\n",
       "       0.8862745 , 0.99215686, 0.99215686, 0.99215686, 0.99215686,\n",
       "       0.95686275, 0.52156866, 0.04313726, 0.        , 0.        ,\n",
       "       0.        , 0.        , 0.        , 0.        , 0.        ,\n",
       "       0.        , 0.        , 0.        , 0.        , 0.        ,\n",
       "       0.        , 0.        , 0.        , 0.        , 0.        ,\n",
       "       0.        , 0.53333336, 0.99215686, 0.99215686, 0.99215686,\n",
       "       0.83137256, 0.5294118 , 0.5176471 , 0.0627451 , 0.        ,\n",
       "       0.        , 0.        , 0.        , 0.        , 0.        ,\n",
       "       0.        , 0.        , 0.        , 0.        , 0.        ,\n",
       "       0.        , 0.        , 0.        , 0.        , 0.        ,\n",
       "       0.        , 0.        , 0.        , 0.        , 0.        ,\n",
       "       0.        , 0.        , 0.        , 0.        , 0.        ,\n",
       "       0.        , 0.        , 0.        , 0.        , 0.        ,\n",
       "       0.        , 0.        , 0.        , 0.        , 0.        ,\n",
       "       0.        , 0.        , 0.        , 0.        , 0.        ,\n",
       "       0.        , 0.        , 0.        , 0.        , 0.        ,\n",
       "       0.        , 0.        , 0.        , 0.        , 0.        ,\n",
       "       0.        , 0.        , 0.        , 0.        , 0.        ,\n",
       "       0.        , 0.        , 0.        , 0.        , 0.        ,\n",
       "       0.        , 0.        , 0.        , 0.        , 0.        ,\n",
       "       0.        , 0.        , 0.        , 0.        , 0.        ,\n",
       "       0.        , 0.        , 0.        , 0.        , 0.        ,\n",
       "       0.        , 0.        , 0.        , 0.        , 0.        ,\n",
       "       0.        , 0.        , 0.        , 0.        , 0.        ,\n",
       "       0.        , 0.        , 0.        , 0.        , 0.        ,\n",
       "       0.        , 0.        , 0.        , 0.        , 0.        ,\n",
       "       0.        , 0.        , 0.        , 0.        ], dtype=float32)"
      ]
     },
     "execution_count": 24,
     "metadata": {},
     "output_type": "execute_result"
    }
   ],
   "source": [
    "X_train[0]"
   ]
  },
  {
   "cell_type": "code",
   "execution_count": 25,
   "id": "9b112ccf",
   "metadata": {},
   "outputs": [],
   "source": [
    "n_classes = 10 \n",
    "y_train = to_categorical(y_train, n_classes)\n",
    "y_valid = to_categorical(y_valid, n_classes)"
   ]
  },
  {
   "cell_type": "code",
   "execution_count": 27,
   "id": "786c2bd5",
   "metadata": {},
   "outputs": [
    {
     "data": {
      "text/plain": [
       "array([0., 0., 0., 0., 0., 1., 0., 0., 0., 0.], dtype=float32)"
      ]
     },
     "execution_count": 27,
     "metadata": {},
     "output_type": "execute_result"
    }
   ],
   "source": [
    "y_train[0]"
   ]
  },
  {
   "cell_type": "markdown",
   "id": "d165561e",
   "metadata": {},
   "source": [
    "### design NN arch"
   ]
  },
  {
   "cell_type": "code",
   "execution_count": 28,
   "id": "a826308b",
   "metadata": {},
   "outputs": [
    {
     "name": "stdout",
     "output_type": "stream",
     "text": [
      "WARNING:tensorflow:From C:\\Users\\ASUS\\.anaconda\\anaconda\\Lib\\site-packages\\keras\\src\\backend.py:873: The name tf.get_default_graph is deprecated. Please use tf.compat.v1.get_default_graph instead.\n",
      "\n"
     ]
    }
   ],
   "source": [
    "model = Sequential()\n",
    "## hidden layer\n",
    "model.add(Dense(64, activation=\"sigmoid\", input_shape = (784,)))\n",
    "\n",
    "## output layer\n",
    "\n",
    "model.add(Dense(10, activation='softmax'))"
   ]
  },
  {
   "cell_type": "code",
   "execution_count": 29,
   "id": "d39dca58",
   "metadata": {},
   "outputs": [
    {
     "name": "stdout",
     "output_type": "stream",
     "text": [
      "Model: \"sequential\"\n",
      "_________________________________________________________________\n",
      " Layer (type)                Output Shape              Param #   \n",
      "=================================================================\n",
      " dense (Dense)               (None, 64)                50240     \n",
      "                                                                 \n",
      " dense_1 (Dense)             (None, 10)                650       \n",
      "                                                                 \n",
      "=================================================================\n",
      "Total params: 50890 (198.79 KB)\n",
      "Trainable params: 50890 (198.79 KB)\n",
      "Non-trainable params: 0 (0.00 Byte)\n",
      "_________________________________________________________________\n"
     ]
    }
   ],
   "source": [
    "model.summary()"
   ]
  },
  {
   "cell_type": "markdown",
   "id": "0e2f3de0",
   "metadata": {},
   "source": [
    "# compile model"
   ]
  },
  {
   "cell_type": "code",
   "execution_count": 33,
   "id": "61fbd2a9",
   "metadata": {},
   "outputs": [],
   "source": [
    "model.compile(loss= 'mean_squared_error', optimizer = SGD(learning_rate = 0.01), metrics=['accuracy'])"
   ]
  },
  {
   "cell_type": "markdown",
   "id": "bd0d1f91",
   "metadata": {},
   "source": [
    "# train"
   ]
  },
  {
   "cell_type": "code",
   "execution_count": 34,
   "id": "4f3ac842",
   "metadata": {},
   "outputs": [
    {
     "name": "stdout",
     "output_type": "stream",
     "text": [
      "Epoch 1/200\n",
      "WARNING:tensorflow:From C:\\Users\\ASUS\\.anaconda\\anaconda\\Lib\\site-packages\\keras\\src\\utils\\tf_utils.py:492: The name tf.ragged.RaggedTensorValue is deprecated. Please use tf.compat.v1.ragged.RaggedTensorValue instead.\n",
      "\n"
     ]
    },
    {
     "name": "stderr",
     "output_type": "stream",
     "text": [
      "WARNING:tensorflow:From C:\\Users\\ASUS\\.anaconda\\anaconda\\Lib\\site-packages\\keras\\src\\utils\\tf_utils.py:492: The name tf.ragged.RaggedTensorValue is deprecated. Please use tf.compat.v1.ragged.RaggedTensorValue instead.\n",
      "\n"
     ]
    },
    {
     "name": "stdout",
     "output_type": "stream",
     "text": [
      "WARNING:tensorflow:From C:\\Users\\ASUS\\.anaconda\\anaconda\\Lib\\site-packages\\keras\\src\\engine\\base_layer_utils.py:384: The name tf.executing_eagerly_outside_functions is deprecated. Please use tf.compat.v1.executing_eagerly_outside_functions instead.\n",
      "\n"
     ]
    },
    {
     "name": "stderr",
     "output_type": "stream",
     "text": [
      "WARNING:tensorflow:From C:\\Users\\ASUS\\.anaconda\\anaconda\\Lib\\site-packages\\keras\\src\\engine\\base_layer_utils.py:384: The name tf.executing_eagerly_outside_functions is deprecated. Please use tf.compat.v1.executing_eagerly_outside_functions instead.\n",
      "\n"
     ]
    },
    {
     "name": "stdout",
     "output_type": "stream",
     "text": [
      "469/469 [==============================] - 3s 4ms/step - loss: 0.0916 - accuracy: 0.1144 - val_loss: 0.0909 - val_accuracy: 0.1332\n",
      "Epoch 2/200\n",
      "469/469 [==============================] - 2s 3ms/step - loss: 0.0907 - accuracy: 0.1362 - val_loss: 0.0902 - val_accuracy: 0.1559\n",
      "Epoch 3/200\n",
      "469/469 [==============================] - 2s 3ms/step - loss: 0.0901 - accuracy: 0.1662 - val_loss: 0.0897 - val_accuracy: 0.1940\n",
      "Epoch 4/200\n",
      "469/469 [==============================] - 2s 3ms/step - loss: 0.0896 - accuracy: 0.2097 - val_loss: 0.0892 - val_accuracy: 0.2383\n",
      "Epoch 5/200\n",
      "469/469 [==============================] - 2s 3ms/step - loss: 0.0892 - accuracy: 0.2533 - val_loss: 0.0888 - val_accuracy: 0.2810\n",
      "Epoch 6/200\n",
      "469/469 [==============================] - 2s 3ms/step - loss: 0.0887 - accuracy: 0.2832 - val_loss: 0.0884 - val_accuracy: 0.3068\n",
      "Epoch 7/200\n",
      "469/469 [==============================] - 2s 3ms/step - loss: 0.0883 - accuracy: 0.3045 - val_loss: 0.0880 - val_accuracy: 0.3237\n",
      "Epoch 8/200\n",
      "469/469 [==============================] - 2s 3ms/step - loss: 0.0879 - accuracy: 0.3183 - val_loss: 0.0876 - val_accuracy: 0.3357\n",
      "Epoch 9/200\n",
      "469/469 [==============================] - 2s 3ms/step - loss: 0.0875 - accuracy: 0.3293 - val_loss: 0.0872 - val_accuracy: 0.3473\n",
      "Epoch 10/200\n",
      "469/469 [==============================] - 2s 3ms/step - loss: 0.0871 - accuracy: 0.3368 - val_loss: 0.0868 - val_accuracy: 0.3540\n",
      "Epoch 11/200\n",
      "469/469 [==============================] - 2s 3ms/step - loss: 0.0867 - accuracy: 0.3427 - val_loss: 0.0864 - val_accuracy: 0.3591\n",
      "Epoch 12/200\n",
      "469/469 [==============================] - 2s 3ms/step - loss: 0.0864 - accuracy: 0.3460 - val_loss: 0.0860 - val_accuracy: 0.3629\n",
      "Epoch 13/200\n",
      "469/469 [==============================] - 2s 3ms/step - loss: 0.0860 - accuracy: 0.3492 - val_loss: 0.0856 - val_accuracy: 0.3640\n",
      "Epoch 14/200\n",
      "469/469 [==============================] - 2s 3ms/step - loss: 0.0856 - accuracy: 0.3532 - val_loss: 0.0852 - val_accuracy: 0.3664\n",
      "Epoch 15/200\n",
      "469/469 [==============================] - 2s 3ms/step - loss: 0.0852 - accuracy: 0.3543 - val_loss: 0.0848 - val_accuracy: 0.3685\n",
      "Epoch 16/200\n",
      "469/469 [==============================] - 2s 3ms/step - loss: 0.0848 - accuracy: 0.3563 - val_loss: 0.0844 - val_accuracy: 0.3705\n",
      "Epoch 17/200\n",
      "469/469 [==============================] - 2s 3ms/step - loss: 0.0844 - accuracy: 0.3583 - val_loss: 0.0840 - val_accuracy: 0.3727\n",
      "Epoch 18/200\n",
      "469/469 [==============================] - 2s 3ms/step - loss: 0.0840 - accuracy: 0.3614 - val_loss: 0.0836 - val_accuracy: 0.3752\n",
      "Epoch 19/200\n",
      "469/469 [==============================] - 1s 3ms/step - loss: 0.0836 - accuracy: 0.3646 - val_loss: 0.0832 - val_accuracy: 0.3780\n",
      "Epoch 20/200\n",
      "469/469 [==============================] - 1s 3ms/step - loss: 0.0831 - accuracy: 0.3677 - val_loss: 0.0827 - val_accuracy: 0.3819\n",
      "Epoch 21/200\n",
      "469/469 [==============================] - 2s 3ms/step - loss: 0.0827 - accuracy: 0.3717 - val_loss: 0.0823 - val_accuracy: 0.3857\n",
      "Epoch 22/200\n",
      "469/469 [==============================] - 1s 3ms/step - loss: 0.0823 - accuracy: 0.3753 - val_loss: 0.0819 - val_accuracy: 0.3904\n",
      "Epoch 23/200\n",
      "469/469 [==============================] - 1s 3ms/step - loss: 0.0818 - accuracy: 0.3813 - val_loss: 0.0814 - val_accuracy: 0.3945\n",
      "Epoch 24/200\n",
      "469/469 [==============================] - 2s 3ms/step - loss: 0.0814 - accuracy: 0.3859 - val_loss: 0.0810 - val_accuracy: 0.3994\n",
      "Epoch 25/200\n",
      "469/469 [==============================] - 2s 3ms/step - loss: 0.0810 - accuracy: 0.3904 - val_loss: 0.0805 - val_accuracy: 0.4042\n",
      "Epoch 26/200\n",
      "469/469 [==============================] - 1s 3ms/step - loss: 0.0805 - accuracy: 0.3962 - val_loss: 0.0801 - val_accuracy: 0.4106\n",
      "Epoch 27/200\n",
      "469/469 [==============================] - 1s 3ms/step - loss: 0.0801 - accuracy: 0.4007 - val_loss: 0.0796 - val_accuracy: 0.4164\n",
      "Epoch 28/200\n",
      "469/469 [==============================] - 1s 3ms/step - loss: 0.0796 - accuracy: 0.4086 - val_loss: 0.0792 - val_accuracy: 0.4233\n",
      "Epoch 29/200\n",
      "469/469 [==============================] - 1s 3ms/step - loss: 0.0792 - accuracy: 0.4148 - val_loss: 0.0787 - val_accuracy: 0.4294\n",
      "Epoch 30/200\n",
      "469/469 [==============================] - 2s 3ms/step - loss: 0.0787 - accuracy: 0.4220 - val_loss: 0.0782 - val_accuracy: 0.4344\n",
      "Epoch 31/200\n",
      "469/469 [==============================] - 2s 3ms/step - loss: 0.0783 - accuracy: 0.4277 - val_loss: 0.0778 - val_accuracy: 0.4404\n",
      "Epoch 32/200\n",
      "469/469 [==============================] - 2s 3ms/step - loss: 0.0778 - accuracy: 0.4346 - val_loss: 0.0773 - val_accuracy: 0.4471\n",
      "Epoch 33/200\n",
      "469/469 [==============================] - 1s 3ms/step - loss: 0.0773 - accuracy: 0.4402 - val_loss: 0.0768 - val_accuracy: 0.4513\n",
      "Epoch 34/200\n",
      "469/469 [==============================] - 2s 3ms/step - loss: 0.0769 - accuracy: 0.4450 - val_loss: 0.0763 - val_accuracy: 0.4561\n",
      "Epoch 35/200\n",
      "469/469 [==============================] - 2s 3ms/step - loss: 0.0764 - accuracy: 0.4507 - val_loss: 0.0759 - val_accuracy: 0.4634\n",
      "Epoch 36/200\n",
      "469/469 [==============================] - 2s 3ms/step - loss: 0.0759 - accuracy: 0.4579 - val_loss: 0.0754 - val_accuracy: 0.4672\n",
      "Epoch 37/200\n",
      "469/469 [==============================] - 2s 3ms/step - loss: 0.0755 - accuracy: 0.4624 - val_loss: 0.0749 - val_accuracy: 0.4733\n",
      "Epoch 38/200\n",
      "469/469 [==============================] - 2s 3ms/step - loss: 0.0750 - accuracy: 0.4676 - val_loss: 0.0745 - val_accuracy: 0.4783\n",
      "Epoch 39/200\n",
      "469/469 [==============================] - 1s 3ms/step - loss: 0.0746 - accuracy: 0.4736 - val_loss: 0.0740 - val_accuracy: 0.4825\n",
      "Epoch 40/200\n",
      "469/469 [==============================] - 2s 3ms/step - loss: 0.0741 - accuracy: 0.4792 - val_loss: 0.0735 - val_accuracy: 0.4880\n",
      "Epoch 41/200\n",
      "469/469 [==============================] - 2s 3ms/step - loss: 0.0736 - accuracy: 0.4851 - val_loss: 0.0731 - val_accuracy: 0.4937\n",
      "Epoch 42/200\n",
      "469/469 [==============================] - 2s 3ms/step - loss: 0.0732 - accuracy: 0.4891 - val_loss: 0.0726 - val_accuracy: 0.4979\n",
      "Epoch 43/200\n",
      "469/469 [==============================] - 2s 3ms/step - loss: 0.0727 - accuracy: 0.4949 - val_loss: 0.0721 - val_accuracy: 0.5035\n",
      "Epoch 44/200\n",
      "469/469 [==============================] - 2s 4ms/step - loss: 0.0723 - accuracy: 0.5002 - val_loss: 0.0717 - val_accuracy: 0.5076\n",
      "Epoch 45/200\n",
      "469/469 [==============================] - 2s 4ms/step - loss: 0.0718 - accuracy: 0.5048 - val_loss: 0.0712 - val_accuracy: 0.5121\n",
      "Epoch 46/200\n",
      "469/469 [==============================] - 2s 3ms/step - loss: 0.0714 - accuracy: 0.5103 - val_loss: 0.0707 - val_accuracy: 0.5173\n",
      "Epoch 47/200\n",
      "469/469 [==============================] - 2s 3ms/step - loss: 0.0709 - accuracy: 0.5156 - val_loss: 0.0703 - val_accuracy: 0.5217\n",
      "Epoch 48/200\n",
      "469/469 [==============================] - 2s 3ms/step - loss: 0.0705 - accuracy: 0.5207 - val_loss: 0.0698 - val_accuracy: 0.5260\n",
      "Epoch 49/200\n",
      "469/469 [==============================] - 2s 3ms/step - loss: 0.0700 - accuracy: 0.5268 - val_loss: 0.0694 - val_accuracy: 0.5308\n",
      "Epoch 50/200\n",
      "469/469 [==============================] - 2s 3ms/step - loss: 0.0696 - accuracy: 0.5314 - val_loss: 0.0689 - val_accuracy: 0.5363\n",
      "Epoch 51/200\n",
      "469/469 [==============================] - 2s 3ms/step - loss: 0.0691 - accuracy: 0.5378 - val_loss: 0.0685 - val_accuracy: 0.5415\n",
      "Epoch 52/200\n",
      "469/469 [==============================] - 2s 3ms/step - loss: 0.0687 - accuracy: 0.5433 - val_loss: 0.0680 - val_accuracy: 0.5480\n",
      "Epoch 53/200\n",
      "469/469 [==============================] - 2s 3ms/step - loss: 0.0682 - accuracy: 0.5492 - val_loss: 0.0676 - val_accuracy: 0.5535\n",
      "Epoch 54/200\n",
      "469/469 [==============================] - 2s 3ms/step - loss: 0.0678 - accuracy: 0.5551 - val_loss: 0.0671 - val_accuracy: 0.5588\n",
      "Epoch 55/200\n",
      "469/469 [==============================] - 2s 3ms/step - loss: 0.0673 - accuracy: 0.5607 - val_loss: 0.0667 - val_accuracy: 0.5659\n",
      "Epoch 56/200\n",
      "469/469 [==============================] - 2s 3ms/step - loss: 0.0669 - accuracy: 0.5669 - val_loss: 0.0662 - val_accuracy: 0.5712\n",
      "Epoch 57/200\n",
      "469/469 [==============================] - 2s 3ms/step - loss: 0.0664 - accuracy: 0.5730 - val_loss: 0.0658 - val_accuracy: 0.5779\n",
      "Epoch 58/200\n",
      "469/469 [==============================] - 2s 3ms/step - loss: 0.0660 - accuracy: 0.5791 - val_loss: 0.0653 - val_accuracy: 0.5840\n",
      "Epoch 59/200\n",
      "469/469 [==============================] - 2s 3ms/step - loss: 0.0656 - accuracy: 0.5847 - val_loss: 0.0649 - val_accuracy: 0.5883\n",
      "Epoch 60/200\n",
      "469/469 [==============================] - 2s 3ms/step - loss: 0.0651 - accuracy: 0.5896 - val_loss: 0.0644 - val_accuracy: 0.5950\n",
      "Epoch 61/200\n",
      "469/469 [==============================] - 2s 3ms/step - loss: 0.0647 - accuracy: 0.5957 - val_loss: 0.0640 - val_accuracy: 0.5998\n",
      "Epoch 62/200\n",
      "469/469 [==============================] - 2s 3ms/step - loss: 0.0642 - accuracy: 0.6017 - val_loss: 0.0635 - val_accuracy: 0.6050\n",
      "Epoch 63/200\n",
      "469/469 [==============================] - 2s 3ms/step - loss: 0.0638 - accuracy: 0.6069 - val_loss: 0.0631 - val_accuracy: 0.6104\n",
      "Epoch 64/200\n",
      "469/469 [==============================] - 2s 3ms/step - loss: 0.0634 - accuracy: 0.6115 - val_loss: 0.0627 - val_accuracy: 0.6170\n",
      "Epoch 65/200\n",
      "469/469 [==============================] - 2s 4ms/step - loss: 0.0629 - accuracy: 0.6162 - val_loss: 0.0622 - val_accuracy: 0.6234\n",
      "Epoch 66/200\n",
      "469/469 [==============================] - 2s 4ms/step - loss: 0.0625 - accuracy: 0.6215 - val_loss: 0.0618 - val_accuracy: 0.6282\n",
      "Epoch 67/200\n",
      "469/469 [==============================] - 2s 4ms/step - loss: 0.0620 - accuracy: 0.6265 - val_loss: 0.0613 - val_accuracy: 0.6328\n",
      "Epoch 68/200\n",
      "469/469 [==============================] - 2s 3ms/step - loss: 0.0616 - accuracy: 0.6309 - val_loss: 0.0609 - val_accuracy: 0.6370\n",
      "Epoch 69/200\n",
      "469/469 [==============================] - 2s 3ms/step - loss: 0.0612 - accuracy: 0.6355 - val_loss: 0.0604 - val_accuracy: 0.6423\n",
      "Epoch 70/200\n",
      "469/469 [==============================] - 2s 3ms/step - loss: 0.0607 - accuracy: 0.6392 - val_loss: 0.0600 - val_accuracy: 0.6474\n",
      "Epoch 71/200\n",
      "469/469 [==============================] - 2s 3ms/step - loss: 0.0603 - accuracy: 0.6436 - val_loss: 0.0596 - val_accuracy: 0.6515\n",
      "Epoch 72/200\n",
      "469/469 [==============================] - 2s 3ms/step - loss: 0.0599 - accuracy: 0.6482 - val_loss: 0.0591 - val_accuracy: 0.6560\n",
      "Epoch 73/200\n",
      "469/469 [==============================] - 2s 3ms/step - loss: 0.0594 - accuracy: 0.6515 - val_loss: 0.0587 - val_accuracy: 0.6605\n",
      "Epoch 74/200\n",
      "469/469 [==============================] - 2s 3ms/step - loss: 0.0590 - accuracy: 0.6554 - val_loss: 0.0583 - val_accuracy: 0.6649\n",
      "Epoch 75/200\n",
      "469/469 [==============================] - 2s 3ms/step - loss: 0.0586 - accuracy: 0.6587 - val_loss: 0.0578 - val_accuracy: 0.6688\n",
      "Epoch 76/200\n",
      "469/469 [==============================] - 1s 3ms/step - loss: 0.0582 - accuracy: 0.6629 - val_loss: 0.0574 - val_accuracy: 0.6730\n",
      "Epoch 77/200\n",
      "469/469 [==============================] - 2s 3ms/step - loss: 0.0577 - accuracy: 0.6664 - val_loss: 0.0570 - val_accuracy: 0.6763\n",
      "Epoch 78/200\n",
      "469/469 [==============================] - 2s 3ms/step - loss: 0.0573 - accuracy: 0.6704 - val_loss: 0.0566 - val_accuracy: 0.6805\n",
      "Epoch 79/200\n",
      "469/469 [==============================] - 2s 3ms/step - loss: 0.0569 - accuracy: 0.6739 - val_loss: 0.0561 - val_accuracy: 0.6835\n",
      "Epoch 80/200\n",
      "469/469 [==============================] - 2s 3ms/step - loss: 0.0565 - accuracy: 0.6771 - val_loss: 0.0557 - val_accuracy: 0.6874\n",
      "Epoch 81/200\n",
      "469/469 [==============================] - 2s 3ms/step - loss: 0.0561 - accuracy: 0.6805 - val_loss: 0.0553 - val_accuracy: 0.6920\n",
      "Epoch 82/200\n",
      "469/469 [==============================] - 2s 3ms/step - loss: 0.0556 - accuracy: 0.6847 - val_loss: 0.0549 - val_accuracy: 0.6950\n",
      "Epoch 83/200\n",
      "469/469 [==============================] - 2s 3ms/step - loss: 0.0552 - accuracy: 0.6876 - val_loss: 0.0545 - val_accuracy: 0.6983\n",
      "Epoch 84/200\n",
      "469/469 [==============================] - 2s 3ms/step - loss: 0.0548 - accuracy: 0.6905 - val_loss: 0.0540 - val_accuracy: 0.7030\n",
      "Epoch 85/200\n",
      "469/469 [==============================] - 2s 3ms/step - loss: 0.0544 - accuracy: 0.6945 - val_loss: 0.0536 - val_accuracy: 0.7064\n",
      "Epoch 86/200\n",
      "469/469 [==============================] - 1s 3ms/step - loss: 0.0540 - accuracy: 0.6976 - val_loss: 0.0532 - val_accuracy: 0.7081\n",
      "Epoch 87/200\n",
      "469/469 [==============================] - 2s 3ms/step - loss: 0.0536 - accuracy: 0.7006 - val_loss: 0.0528 - val_accuracy: 0.7107\n",
      "Epoch 88/200\n",
      "469/469 [==============================] - 2s 3ms/step - loss: 0.0532 - accuracy: 0.7031 - val_loss: 0.0524 - val_accuracy: 0.7138\n",
      "Epoch 89/200\n",
      "469/469 [==============================] - 2s 3ms/step - loss: 0.0528 - accuracy: 0.7057 - val_loss: 0.0520 - val_accuracy: 0.7179\n",
      "Epoch 90/200\n",
      "469/469 [==============================] - 2s 3ms/step - loss: 0.0525 - accuracy: 0.7094 - val_loss: 0.0516 - val_accuracy: 0.7225\n",
      "Epoch 91/200\n",
      "469/469 [==============================] - 2s 3ms/step - loss: 0.0521 - accuracy: 0.7132 - val_loss: 0.0513 - val_accuracy: 0.7257\n",
      "Epoch 92/200\n",
      "469/469 [==============================] - 2s 3ms/step - loss: 0.0517 - accuracy: 0.7155 - val_loss: 0.0509 - val_accuracy: 0.7291\n",
      "Epoch 93/200\n",
      "469/469 [==============================] - 2s 3ms/step - loss: 0.0513 - accuracy: 0.7186 - val_loss: 0.0505 - val_accuracy: 0.7320\n",
      "Epoch 94/200\n",
      "469/469 [==============================] - 2s 3ms/step - loss: 0.0509 - accuracy: 0.7211 - val_loss: 0.0501 - val_accuracy: 0.7344\n",
      "Epoch 95/200\n",
      "469/469 [==============================] - 2s 3ms/step - loss: 0.0506 - accuracy: 0.7240 - val_loss: 0.0497 - val_accuracy: 0.7380\n",
      "Epoch 96/200\n",
      "469/469 [==============================] - 2s 3ms/step - loss: 0.0502 - accuracy: 0.7271 - val_loss: 0.0494 - val_accuracy: 0.7408\n",
      "Epoch 97/200\n",
      "469/469 [==============================] - 2s 3ms/step - loss: 0.0498 - accuracy: 0.7292 - val_loss: 0.0490 - val_accuracy: 0.7428\n",
      "Epoch 98/200\n",
      "469/469 [==============================] - 2s 3ms/step - loss: 0.0495 - accuracy: 0.7318 - val_loss: 0.0486 - val_accuracy: 0.7445\n",
      "Epoch 99/200\n",
      "469/469 [==============================] - 1s 3ms/step - loss: 0.0491 - accuracy: 0.7341 - val_loss: 0.0483 - val_accuracy: 0.7466\n",
      "Epoch 100/200\n",
      "469/469 [==============================] - 2s 3ms/step - loss: 0.0488 - accuracy: 0.7365 - val_loss: 0.0479 - val_accuracy: 0.7476\n",
      "Epoch 101/200\n",
      "469/469 [==============================] - 2s 3ms/step - loss: 0.0484 - accuracy: 0.7380 - val_loss: 0.0476 - val_accuracy: 0.7493\n",
      "Epoch 102/200\n",
      "469/469 [==============================] - 2s 3ms/step - loss: 0.0481 - accuracy: 0.7401 - val_loss: 0.0472 - val_accuracy: 0.7523\n",
      "Epoch 103/200\n",
      "469/469 [==============================] - 2s 3ms/step - loss: 0.0478 - accuracy: 0.7423 - val_loss: 0.0469 - val_accuracy: 0.7542\n",
      "Epoch 104/200\n",
      "469/469 [==============================] - 2s 3ms/step - loss: 0.0474 - accuracy: 0.7445 - val_loss: 0.0466 - val_accuracy: 0.7564\n",
      "Epoch 105/200\n",
      "469/469 [==============================] - 2s 3ms/step - loss: 0.0471 - accuracy: 0.7459 - val_loss: 0.0462 - val_accuracy: 0.7589\n",
      "Epoch 106/200\n",
      "469/469 [==============================] - 2s 3ms/step - loss: 0.0468 - accuracy: 0.7479 - val_loss: 0.0459 - val_accuracy: 0.7600\n",
      "Epoch 107/200\n",
      "469/469 [==============================] - 2s 3ms/step - loss: 0.0465 - accuracy: 0.7495 - val_loss: 0.0456 - val_accuracy: 0.7609\n",
      "Epoch 108/200\n",
      "469/469 [==============================] - 2s 3ms/step - loss: 0.0461 - accuracy: 0.7514 - val_loss: 0.0453 - val_accuracy: 0.7619\n",
      "Epoch 109/200\n",
      "469/469 [==============================] - 2s 3ms/step - loss: 0.0458 - accuracy: 0.7534 - val_loss: 0.0450 - val_accuracy: 0.7630\n",
      "Epoch 110/200\n",
      "469/469 [==============================] - 2s 3ms/step - loss: 0.0455 - accuracy: 0.7545 - val_loss: 0.0446 - val_accuracy: 0.7648\n",
      "Epoch 111/200\n",
      "469/469 [==============================] - 2s 3ms/step - loss: 0.0452 - accuracy: 0.7561 - val_loss: 0.0443 - val_accuracy: 0.7664\n",
      "Epoch 112/200\n",
      "469/469 [==============================] - 2s 3ms/step - loss: 0.0449 - accuracy: 0.7575 - val_loss: 0.0440 - val_accuracy: 0.7678\n",
      "Epoch 113/200\n",
      "469/469 [==============================] - 2s 3ms/step - loss: 0.0446 - accuracy: 0.7590 - val_loss: 0.0437 - val_accuracy: 0.7697\n",
      "Epoch 114/200\n",
      "469/469 [==============================] - 2s 3ms/step - loss: 0.0443 - accuracy: 0.7606 - val_loss: 0.0434 - val_accuracy: 0.7719\n",
      "Epoch 115/200\n",
      "469/469 [==============================] - 2s 3ms/step - loss: 0.0440 - accuracy: 0.7620 - val_loss: 0.0431 - val_accuracy: 0.7741\n",
      "Epoch 116/200\n",
      "469/469 [==============================] - 2s 3ms/step - loss: 0.0437 - accuracy: 0.7634 - val_loss: 0.0428 - val_accuracy: 0.7749\n",
      "Epoch 117/200\n",
      "469/469 [==============================] - 1s 3ms/step - loss: 0.0435 - accuracy: 0.7647 - val_loss: 0.0426 - val_accuracy: 0.7767\n",
      "Epoch 118/200\n",
      "469/469 [==============================] - 1s 3ms/step - loss: 0.0432 - accuracy: 0.7661 - val_loss: 0.0423 - val_accuracy: 0.7779\n",
      "Epoch 119/200\n",
      "469/469 [==============================] - 1s 3ms/step - loss: 0.0429 - accuracy: 0.7672 - val_loss: 0.0420 - val_accuracy: 0.7794\n",
      "Epoch 120/200\n",
      "469/469 [==============================] - 1s 3ms/step - loss: 0.0426 - accuracy: 0.7689 - val_loss: 0.0417 - val_accuracy: 0.7806\n",
      "Epoch 121/200\n",
      "469/469 [==============================] - 1s 3ms/step - loss: 0.0424 - accuracy: 0.7702 - val_loss: 0.0415 - val_accuracy: 0.7819\n",
      "Epoch 122/200\n",
      "469/469 [==============================] - 2s 3ms/step - loss: 0.0421 - accuracy: 0.7717 - val_loss: 0.0412 - val_accuracy: 0.7834\n",
      "Epoch 123/200\n",
      "469/469 [==============================] - 2s 3ms/step - loss: 0.0418 - accuracy: 0.7730 - val_loss: 0.0409 - val_accuracy: 0.7858\n",
      "Epoch 124/200\n",
      "469/469 [==============================] - 2s 3ms/step - loss: 0.0416 - accuracy: 0.7742 - val_loss: 0.0407 - val_accuracy: 0.7871\n",
      "Epoch 125/200\n",
      "469/469 [==============================] - 1s 3ms/step - loss: 0.0413 - accuracy: 0.7757 - val_loss: 0.0404 - val_accuracy: 0.7883\n",
      "Epoch 126/200\n",
      "469/469 [==============================] - 1s 3ms/step - loss: 0.0411 - accuracy: 0.7771 - val_loss: 0.0401 - val_accuracy: 0.7908\n",
      "Epoch 127/200\n",
      "469/469 [==============================] - 2s 3ms/step - loss: 0.0408 - accuracy: 0.7787 - val_loss: 0.0399 - val_accuracy: 0.7925\n",
      "Epoch 128/200\n",
      "469/469 [==============================] - 2s 3ms/step - loss: 0.0406 - accuracy: 0.7800 - val_loss: 0.0396 - val_accuracy: 0.7939\n",
      "Epoch 129/200\n",
      "469/469 [==============================] - 2s 3ms/step - loss: 0.0403 - accuracy: 0.7817 - val_loss: 0.0394 - val_accuracy: 0.7949\n",
      "Epoch 130/200\n",
      "469/469 [==============================] - 2s 3ms/step - loss: 0.0401 - accuracy: 0.7832 - val_loss: 0.0391 - val_accuracy: 0.7959\n",
      "Epoch 131/200\n",
      "469/469 [==============================] - 2s 3ms/step - loss: 0.0398 - accuracy: 0.7850 - val_loss: 0.0389 - val_accuracy: 0.7975\n",
      "Epoch 132/200\n",
      "469/469 [==============================] - 2s 3ms/step - loss: 0.0396 - accuracy: 0.7864 - val_loss: 0.0387 - val_accuracy: 0.7990\n",
      "Epoch 133/200\n",
      "469/469 [==============================] - 2s 3ms/step - loss: 0.0394 - accuracy: 0.7879 - val_loss: 0.0384 - val_accuracy: 0.8013\n",
      "Epoch 134/200\n",
      "469/469 [==============================] - 2s 3ms/step - loss: 0.0391 - accuracy: 0.7899 - val_loss: 0.0382 - val_accuracy: 0.8026\n",
      "Epoch 135/200\n",
      "469/469 [==============================] - 2s 3ms/step - loss: 0.0389 - accuracy: 0.7917 - val_loss: 0.0380 - val_accuracy: 0.8043\n",
      "Epoch 136/200\n",
      "469/469 [==============================] - 2s 3ms/step - loss: 0.0387 - accuracy: 0.7931 - val_loss: 0.0377 - val_accuracy: 0.8062\n",
      "Epoch 137/200\n",
      "469/469 [==============================] - 2s 3ms/step - loss: 0.0384 - accuracy: 0.7949 - val_loss: 0.0375 - val_accuracy: 0.8079\n",
      "Epoch 138/200\n",
      "469/469 [==============================] - 2s 3ms/step - loss: 0.0382 - accuracy: 0.7970 - val_loss: 0.0373 - val_accuracy: 0.8088\n",
      "Epoch 139/200\n",
      "469/469 [==============================] - 2s 3ms/step - loss: 0.0380 - accuracy: 0.7992 - val_loss: 0.0371 - val_accuracy: 0.8110\n",
      "Epoch 140/200\n",
      "469/469 [==============================] - 2s 3ms/step - loss: 0.0378 - accuracy: 0.8005 - val_loss: 0.0368 - val_accuracy: 0.8127\n",
      "Epoch 141/200\n",
      "469/469 [==============================] - 2s 3ms/step - loss: 0.0376 - accuracy: 0.8021 - val_loss: 0.0366 - val_accuracy: 0.8147\n",
      "Epoch 142/200\n",
      "469/469 [==============================] - 2s 3ms/step - loss: 0.0374 - accuracy: 0.8042 - val_loss: 0.0364 - val_accuracy: 0.8166\n",
      "Epoch 143/200\n",
      "469/469 [==============================] - 2s 3ms/step - loss: 0.0372 - accuracy: 0.8061 - val_loss: 0.0362 - val_accuracy: 0.8175\n",
      "Epoch 144/200\n",
      "469/469 [==============================] - 1s 3ms/step - loss: 0.0369 - accuracy: 0.8077 - val_loss: 0.0360 - val_accuracy: 0.8185\n",
      "Epoch 145/200\n",
      "469/469 [==============================] - 2s 3ms/step - loss: 0.0367 - accuracy: 0.8092 - val_loss: 0.0358 - val_accuracy: 0.8200\n",
      "Epoch 146/200\n",
      "469/469 [==============================] - 2s 3ms/step - loss: 0.0365 - accuracy: 0.8109 - val_loss: 0.0356 - val_accuracy: 0.8210\n",
      "Epoch 147/200\n",
      "469/469 [==============================] - 2s 3ms/step - loss: 0.0363 - accuracy: 0.8129 - val_loss: 0.0354 - val_accuracy: 0.8224\n",
      "Epoch 148/200\n",
      "469/469 [==============================] - 2s 3ms/step - loss: 0.0361 - accuracy: 0.8145 - val_loss: 0.0352 - val_accuracy: 0.8235\n",
      "Epoch 149/200\n",
      "469/469 [==============================] - 2s 3ms/step - loss: 0.0359 - accuracy: 0.8163 - val_loss: 0.0350 - val_accuracy: 0.8251\n",
      "Epoch 150/200\n",
      "469/469 [==============================] - 2s 3ms/step - loss: 0.0357 - accuracy: 0.8176 - val_loss: 0.0348 - val_accuracy: 0.8262\n",
      "Epoch 151/200\n",
      "469/469 [==============================] - 1s 3ms/step - loss: 0.0355 - accuracy: 0.8191 - val_loss: 0.0346 - val_accuracy: 0.8280\n",
      "Epoch 152/200\n",
      "469/469 [==============================] - 2s 3ms/step - loss: 0.0354 - accuracy: 0.8206 - val_loss: 0.0344 - val_accuracy: 0.8293\n",
      "Epoch 153/200\n",
      "469/469 [==============================] - 2s 3ms/step - loss: 0.0352 - accuracy: 0.8218 - val_loss: 0.0342 - val_accuracy: 0.8313\n",
      "Epoch 154/200\n",
      "469/469 [==============================] - 2s 3ms/step - loss: 0.0350 - accuracy: 0.8233 - val_loss: 0.0340 - val_accuracy: 0.8322\n",
      "Epoch 155/200\n",
      "469/469 [==============================] - 2s 3ms/step - loss: 0.0348 - accuracy: 0.8246 - val_loss: 0.0338 - val_accuracy: 0.8331\n",
      "Epoch 156/200\n",
      "469/469 [==============================] - 2s 3ms/step - loss: 0.0346 - accuracy: 0.8258 - val_loss: 0.0336 - val_accuracy: 0.8350\n",
      "Epoch 157/200\n",
      "469/469 [==============================] - 2s 3ms/step - loss: 0.0344 - accuracy: 0.8273 - val_loss: 0.0334 - val_accuracy: 0.8366\n",
      "Epoch 158/200\n",
      "469/469 [==============================] - 2s 3ms/step - loss: 0.0342 - accuracy: 0.8285 - val_loss: 0.0333 - val_accuracy: 0.8380\n",
      "Epoch 159/200\n",
      "469/469 [==============================] - 2s 3ms/step - loss: 0.0341 - accuracy: 0.8294 - val_loss: 0.0331 - val_accuracy: 0.8398\n",
      "Epoch 160/200\n",
      "469/469 [==============================] - 2s 3ms/step - loss: 0.0339 - accuracy: 0.8305 - val_loss: 0.0329 - val_accuracy: 0.8414\n",
      "Epoch 161/200\n",
      "469/469 [==============================] - 2s 3ms/step - loss: 0.0337 - accuracy: 0.8316 - val_loss: 0.0327 - val_accuracy: 0.8422\n",
      "Epoch 162/200\n",
      "469/469 [==============================] - 2s 3ms/step - loss: 0.0335 - accuracy: 0.8328 - val_loss: 0.0326 - val_accuracy: 0.8433\n",
      "Epoch 163/200\n",
      "469/469 [==============================] - 2s 3ms/step - loss: 0.0334 - accuracy: 0.8339 - val_loss: 0.0324 - val_accuracy: 0.8444\n",
      "Epoch 164/200\n",
      "469/469 [==============================] - 2s 3ms/step - loss: 0.0332 - accuracy: 0.8345 - val_loss: 0.0322 - val_accuracy: 0.8456\n",
      "Epoch 165/200\n",
      "469/469 [==============================] - 2s 3ms/step - loss: 0.0330 - accuracy: 0.8353 - val_loss: 0.0320 - val_accuracy: 0.8468\n",
      "Epoch 166/200\n",
      "469/469 [==============================] - 2s 4ms/step - loss: 0.0329 - accuracy: 0.8368 - val_loss: 0.0319 - val_accuracy: 0.8473\n",
      "Epoch 167/200\n",
      "469/469 [==============================] - 2s 3ms/step - loss: 0.0327 - accuracy: 0.8375 - val_loss: 0.0317 - val_accuracy: 0.8481\n",
      "Epoch 168/200\n",
      "469/469 [==============================] - 2s 3ms/step - loss: 0.0326 - accuracy: 0.8385 - val_loss: 0.0316 - val_accuracy: 0.8490\n",
      "Epoch 169/200\n",
      "469/469 [==============================] - 2s 3ms/step - loss: 0.0324 - accuracy: 0.8392 - val_loss: 0.0314 - val_accuracy: 0.8505\n",
      "Epoch 170/200\n",
      "469/469 [==============================] - 2s 3ms/step - loss: 0.0322 - accuracy: 0.8399 - val_loss: 0.0312 - val_accuracy: 0.8516\n",
      "Epoch 171/200\n",
      "469/469 [==============================] - 2s 3ms/step - loss: 0.0321 - accuracy: 0.8405 - val_loss: 0.0311 - val_accuracy: 0.8523\n",
      "Epoch 172/200\n",
      "469/469 [==============================] - 1s 3ms/step - loss: 0.0319 - accuracy: 0.8413 - val_loss: 0.0309 - val_accuracy: 0.8530\n",
      "Epoch 173/200\n",
      "469/469 [==============================] - 1s 3ms/step - loss: 0.0318 - accuracy: 0.8423 - val_loss: 0.0308 - val_accuracy: 0.8537\n",
      "Epoch 174/200\n",
      "469/469 [==============================] - 2s 3ms/step - loss: 0.0316 - accuracy: 0.8432 - val_loss: 0.0306 - val_accuracy: 0.8543\n",
      "Epoch 175/200\n",
      "469/469 [==============================] - 2s 3ms/step - loss: 0.0315 - accuracy: 0.8441 - val_loss: 0.0305 - val_accuracy: 0.8548\n",
      "Epoch 176/200\n",
      "469/469 [==============================] - 2s 3ms/step - loss: 0.0313 - accuracy: 0.8448 - val_loss: 0.0303 - val_accuracy: 0.8553\n",
      "Epoch 177/200\n",
      "469/469 [==============================] - 2s 3ms/step - loss: 0.0312 - accuracy: 0.8454 - val_loss: 0.0302 - val_accuracy: 0.8563\n",
      "Epoch 178/200\n",
      "469/469 [==============================] - 2s 3ms/step - loss: 0.0310 - accuracy: 0.8463 - val_loss: 0.0300 - val_accuracy: 0.8567\n",
      "Epoch 179/200\n",
      "469/469 [==============================] - 2s 3ms/step - loss: 0.0309 - accuracy: 0.8472 - val_loss: 0.0299 - val_accuracy: 0.8573\n",
      "Epoch 180/200\n",
      "469/469 [==============================] - 2s 3ms/step - loss: 0.0308 - accuracy: 0.8481 - val_loss: 0.0297 - val_accuracy: 0.8577\n",
      "Epoch 181/200\n",
      "469/469 [==============================] - 2s 3ms/step - loss: 0.0306 - accuracy: 0.8490 - val_loss: 0.0296 - val_accuracy: 0.8585\n",
      "Epoch 182/200\n",
      "469/469 [==============================] - 2s 3ms/step - loss: 0.0305 - accuracy: 0.8497 - val_loss: 0.0295 - val_accuracy: 0.8590\n",
      "Epoch 183/200\n",
      "469/469 [==============================] - 2s 3ms/step - loss: 0.0303 - accuracy: 0.8504 - val_loss: 0.0293 - val_accuracy: 0.8601\n",
      "Epoch 184/200\n",
      "469/469 [==============================] - 2s 3ms/step - loss: 0.0302 - accuracy: 0.8513 - val_loss: 0.0292 - val_accuracy: 0.8608\n",
      "Epoch 185/200\n",
      "469/469 [==============================] - 2s 3ms/step - loss: 0.0301 - accuracy: 0.8519 - val_loss: 0.0291 - val_accuracy: 0.8612\n",
      "Epoch 186/200\n",
      "469/469 [==============================] - 2s 3ms/step - loss: 0.0299 - accuracy: 0.8522 - val_loss: 0.0289 - val_accuracy: 0.8617\n",
      "Epoch 187/200\n",
      "469/469 [==============================] - 2s 3ms/step - loss: 0.0298 - accuracy: 0.8528 - val_loss: 0.0288 - val_accuracy: 0.8624\n",
      "Epoch 188/200\n",
      "469/469 [==============================] - 2s 3ms/step - loss: 0.0297 - accuracy: 0.8536 - val_loss: 0.0287 - val_accuracy: 0.8627\n",
      "Epoch 189/200\n",
      "469/469 [==============================] - 2s 3ms/step - loss: 0.0296 - accuracy: 0.8541 - val_loss: 0.0285 - val_accuracy: 0.8629\n",
      "Epoch 190/200\n",
      "469/469 [==============================] - 2s 3ms/step - loss: 0.0294 - accuracy: 0.8546 - val_loss: 0.0284 - val_accuracy: 0.8632\n",
      "Epoch 191/200\n",
      "469/469 [==============================] - 2s 3ms/step - loss: 0.0293 - accuracy: 0.8553 - val_loss: 0.0283 - val_accuracy: 0.8640\n",
      "Epoch 192/200\n",
      "469/469 [==============================] - 2s 3ms/step - loss: 0.0292 - accuracy: 0.8556 - val_loss: 0.0282 - val_accuracy: 0.8646\n",
      "Epoch 193/200\n",
      "469/469 [==============================] - 2s 3ms/step - loss: 0.0291 - accuracy: 0.8561 - val_loss: 0.0281 - val_accuracy: 0.8651\n",
      "Epoch 194/200\n",
      "469/469 [==============================] - 1s 3ms/step - loss: 0.0289 - accuracy: 0.8566 - val_loss: 0.0279 - val_accuracy: 0.8655\n",
      "Epoch 195/200\n",
      "469/469 [==============================] - 2s 3ms/step - loss: 0.0288 - accuracy: 0.8571 - val_loss: 0.0278 - val_accuracy: 0.8664\n",
      "Epoch 196/200\n",
      "469/469 [==============================] - 2s 3ms/step - loss: 0.0287 - accuracy: 0.8575 - val_loss: 0.0277 - val_accuracy: 0.8669\n",
      "Epoch 197/200\n",
      "469/469 [==============================] - 2s 3ms/step - loss: 0.0286 - accuracy: 0.8579 - val_loss: 0.0276 - val_accuracy: 0.8679\n",
      "Epoch 198/200\n",
      "469/469 [==============================] - 2s 3ms/step - loss: 0.0285 - accuracy: 0.8583 - val_loss: 0.0275 - val_accuracy: 0.8681\n",
      "Epoch 199/200\n",
      "469/469 [==============================] - 2s 3ms/step - loss: 0.0284 - accuracy: 0.8586 - val_loss: 0.0274 - val_accuracy: 0.8684\n",
      "Epoch 200/200\n",
      "469/469 [==============================] - 1s 3ms/step - loss: 0.0283 - accuracy: 0.8590 - val_loss: 0.0272 - val_accuracy: 0.8688\n"
     ]
    },
    {
     "data": {
      "text/plain": [
       "<keras.src.callbacks.History at 0x24a3496b4d0>"
      ]
     },
     "execution_count": 34,
     "metadata": {},
     "output_type": "execute_result"
    }
   ],
   "source": [
    "model.fit(X_train, y_train, batch_size=128, epochs=200, verbose=1, validation_data=(X_valid, y_valid))"
   ]
  },
  {
   "cell_type": "code",
   "execution_count": 35,
   "id": "54e429ba",
   "metadata": {},
   "outputs": [
    {
     "name": "stdout",
     "output_type": "stream",
     "text": [
      "313/313 [==============================] - 1s 2ms/step - loss: 0.0272 - accuracy: 0.8688\n"
     ]
    },
    {
     "data": {
      "text/plain": [
       "[0.027239080518484116, 0.8687999844551086]"
      ]
     },
     "execution_count": 35,
     "metadata": {},
     "output_type": "execute_result"
    }
   ],
   "source": [
    "model.evaluate(X_valid, y_valid)"
   ]
  },
  {
   "cell_type": "code",
   "execution_count": 36,
   "id": "1611d2e2",
   "metadata": {},
   "outputs": [],
   "source": [
    "valid_0 = X_valid[0].reshape(1, 784)"
   ]
  },
  {
   "cell_type": "code",
   "execution_count": 37,
   "id": "69e9a538",
   "metadata": {},
   "outputs": [
    {
     "name": "stdout",
     "output_type": "stream",
     "text": [
      "1/1 [==============================] - 0s 118ms/step\n"
     ]
    },
    {
     "data": {
      "text/plain": [
       "array([[0.00688593, 0.00112572, 0.00173401, 0.01063465, 0.00721964,\n",
       "        0.0200084 , 0.00153135, 0.89983237, 0.00499124, 0.04603665]],\n",
       "      dtype=float32)"
      ]
     },
     "execution_count": 37,
     "metadata": {},
     "output_type": "execute_result"
    }
   ],
   "source": [
    "model.predict(valid_0)"
   ]
  },
  {
   "cell_type": "code",
   "execution_count": 39,
   "id": "8a9584af",
   "metadata": {},
   "outputs": [
    {
     "name": "stdout",
     "output_type": "stream",
     "text": [
      "1/1 [==============================] - 0s 39ms/step\n"
     ]
    },
    {
     "data": {
      "text/plain": [
       "array([7], dtype=int64)"
      ]
     },
     "execution_count": 39,
     "metadata": {},
     "output_type": "execute_result"
    }
   ],
   "source": [
    "model.predict(valid_0).argmax(axis=-1)"
   ]
  },
  {
   "cell_type": "code",
   "execution_count": null,
   "id": "a235206c",
   "metadata": {},
   "outputs": [],
   "source": []
  }
 ],
 "metadata": {
  "kernelspec": {
   "display_name": "Python 3 (ipykernel)",
   "language": "python",
   "name": "python3"
  },
  "language_info": {
   "codemirror_mode": {
    "name": "ipython",
    "version": 3
   },
   "file_extension": ".py",
   "mimetype": "text/x-python",
   "name": "python",
   "nbconvert_exporter": "python",
   "pygments_lexer": "ipython3",
   "version": "3.11.5"
  }
 },
 "nbformat": 4,
 "nbformat_minor": 5
}
